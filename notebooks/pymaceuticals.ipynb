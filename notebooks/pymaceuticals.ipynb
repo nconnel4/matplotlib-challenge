{
 "cells": [
  {
   "cell_type": "code",
   "execution_count": 1,
   "metadata": {
    "collapsed": true
   },
   "outputs": [
    {
     "data": {
      "text/plain": "  Mouse ID  Timepoint  Tumor Volume (mm3)  Metastatic Sites Drug Regimen  \\\n0     b128          0                45.0                 0    Capomulin   \n1     f932          0                45.0                 0     Ketapril   \n2     g107          0                45.0                 0     Ketapril   \n3     a457          0                45.0                 0     Ketapril   \n4     c819          0                45.0                 0     Ketapril   \n\n      Sex  Age_months  Weight (g)  \n0  Female           9          22  \n1    Male          15          29  \n2  Female           2          29  \n3  Female          11          30  \n4    Male          21          25  ",
      "text/html": "<div>\n<style scoped>\n    .dataframe tbody tr th:only-of-type {\n        vertical-align: middle;\n    }\n\n    .dataframe tbody tr th {\n        vertical-align: top;\n    }\n\n    .dataframe thead th {\n        text-align: right;\n    }\n</style>\n<table border=\"1\" class=\"dataframe\">\n  <thead>\n    <tr style=\"text-align: right;\">\n      <th></th>\n      <th>Mouse ID</th>\n      <th>Timepoint</th>\n      <th>Tumor Volume (mm3)</th>\n      <th>Metastatic Sites</th>\n      <th>Drug Regimen</th>\n      <th>Sex</th>\n      <th>Age_months</th>\n      <th>Weight (g)</th>\n    </tr>\n  </thead>\n  <tbody>\n    <tr>\n      <th>0</th>\n      <td>b128</td>\n      <td>0</td>\n      <td>45.0</td>\n      <td>0</td>\n      <td>Capomulin</td>\n      <td>Female</td>\n      <td>9</td>\n      <td>22</td>\n    </tr>\n    <tr>\n      <th>1</th>\n      <td>f932</td>\n      <td>0</td>\n      <td>45.0</td>\n      <td>0</td>\n      <td>Ketapril</td>\n      <td>Male</td>\n      <td>15</td>\n      <td>29</td>\n    </tr>\n    <tr>\n      <th>2</th>\n      <td>g107</td>\n      <td>0</td>\n      <td>45.0</td>\n      <td>0</td>\n      <td>Ketapril</td>\n      <td>Female</td>\n      <td>2</td>\n      <td>29</td>\n    </tr>\n    <tr>\n      <th>3</th>\n      <td>a457</td>\n      <td>0</td>\n      <td>45.0</td>\n      <td>0</td>\n      <td>Ketapril</td>\n      <td>Female</td>\n      <td>11</td>\n      <td>30</td>\n    </tr>\n    <tr>\n      <th>4</th>\n      <td>c819</td>\n      <td>0</td>\n      <td>45.0</td>\n      <td>0</td>\n      <td>Ketapril</td>\n      <td>Male</td>\n      <td>21</td>\n      <td>25</td>\n    </tr>\n  </tbody>\n</table>\n</div>"
     },
     "execution_count": 1,
     "metadata": {},
     "output_type": "execute_result"
    }
   ],
   "source": [
    "# Install Dependencies\n",
    "import pandas as pd\n",
    "import scipy.stats as stat\n",
    "import numpy as np\n",
    "import matplotlib.pyplot as plt\n",
    "from scipy.stats import linregress\n",
    "\n",
    "# Set Data Paths\n",
    "mouse_metadata_path = '../data/Mouse_metadata.csv'\n",
    "study_results_path = '../data/study_results.csv'\n",
    "\n",
    "# Load Data Into Pandas\n",
    "mouse_metadata_df = pd.read_csv(mouse_metadata_path)\n",
    "study_results_df = pd.read_csv(study_results_path)\n",
    "\n",
    "study_data_df = pd.merge(study_results_df, mouse_metadata_df, how='left', on='Mouse ID')\n",
    "\n",
    "study_data_df.head()"
   ]
  },
  {
   "cell_type": "code",
   "execution_count": 2,
   "outputs": [],
   "source": [
    "# Get duplicate values from study data\n",
    "duplicate_mouse_row = study_data_df.duplicated(subset=['Mouse ID', 'Timepoint'])\n",
    "duplicate_mouse_df = study_data_df[duplicate_mouse_row]\n",
    "duplicate_mouse_id_list = duplicate_mouse_df['Mouse ID'].unique()\n",
    "\n",
    "# Drop all mice that have duplicate study rows\n",
    "study_data_df = study_data_df[~study_data_df['Mouse ID'].isin(duplicate_mouse_id_list)]"
   ],
   "metadata": {
    "collapsed": false,
    "pycharm": {
     "name": "#%%\n"
    }
   }
  },
  {
   "cell_type": "markdown",
   "source": [
    "## Summary Statistics"
   ],
   "metadata": {
    "collapsed": false,
    "pycharm": {
     "name": "#%% md\n"
    }
   }
  },
  {
   "cell_type": "code",
   "execution_count": 23,
   "outputs": [
    {
     "data": {
      "text/plain": "              Mean Tumor Volume  Median Tumor Volume  Tumor Volume Variance  \\\nDrug Regimen                                                                  \nCapomulin             40.675741            41.557809              24.947764   \nCeftamin              52.591172            51.776157              39.290177   \nInfubinol             52.884795            51.820584              43.128684   \nKetapril              55.235638            53.698743              68.553577   \nNaftisol              54.331565            52.509285              66.173479   \nPlacebo               54.033581            52.288934              61.168083   \nPropriva              52.320930            50.446266              43.852013   \nRamicane              40.216745            40.673236              23.486704   \nStelasyn              54.233149            52.431737              59.450562   \nZoniferol             53.236507            51.818479              48.533355   \n\n              Tumor Volume Stdev  SEM_Tumor_Voume  \nDrug Regimen                                       \nCapomulin               4.994774         0.329346  \nCeftamin                6.268188         0.469821  \nInfubinol               6.567243         0.492236  \nKetapril                8.279709         0.603860  \nNaftisol                8.134708         0.596466  \nPlacebo                 7.821003         0.581331  \nPropriva                6.622085         0.544332  \nRamicane                4.846308         0.320955  \nStelasyn                7.710419         0.573111  \nZoniferol               6.966589         0.516398  ",
      "text/html": "<div>\n<style scoped>\n    .dataframe tbody tr th:only-of-type {\n        vertical-align: middle;\n    }\n\n    .dataframe tbody tr th {\n        vertical-align: top;\n    }\n\n    .dataframe thead th {\n        text-align: right;\n    }\n</style>\n<table border=\"1\" class=\"dataframe\">\n  <thead>\n    <tr style=\"text-align: right;\">\n      <th></th>\n      <th>Mean Tumor Volume</th>\n      <th>Median Tumor Volume</th>\n      <th>Tumor Volume Variance</th>\n      <th>Tumor Volume Stdev</th>\n      <th>SEM_Tumor_Voume</th>\n    </tr>\n    <tr>\n      <th>Drug Regimen</th>\n      <th></th>\n      <th></th>\n      <th></th>\n      <th></th>\n      <th></th>\n    </tr>\n  </thead>\n  <tbody>\n    <tr>\n      <th>Capomulin</th>\n      <td>40.675741</td>\n      <td>41.557809</td>\n      <td>24.947764</td>\n      <td>4.994774</td>\n      <td>0.329346</td>\n    </tr>\n    <tr>\n      <th>Ceftamin</th>\n      <td>52.591172</td>\n      <td>51.776157</td>\n      <td>39.290177</td>\n      <td>6.268188</td>\n      <td>0.469821</td>\n    </tr>\n    <tr>\n      <th>Infubinol</th>\n      <td>52.884795</td>\n      <td>51.820584</td>\n      <td>43.128684</td>\n      <td>6.567243</td>\n      <td>0.492236</td>\n    </tr>\n    <tr>\n      <th>Ketapril</th>\n      <td>55.235638</td>\n      <td>53.698743</td>\n      <td>68.553577</td>\n      <td>8.279709</td>\n      <td>0.603860</td>\n    </tr>\n    <tr>\n      <th>Naftisol</th>\n      <td>54.331565</td>\n      <td>52.509285</td>\n      <td>66.173479</td>\n      <td>8.134708</td>\n      <td>0.596466</td>\n    </tr>\n    <tr>\n      <th>Placebo</th>\n      <td>54.033581</td>\n      <td>52.288934</td>\n      <td>61.168083</td>\n      <td>7.821003</td>\n      <td>0.581331</td>\n    </tr>\n    <tr>\n      <th>Propriva</th>\n      <td>52.320930</td>\n      <td>50.446266</td>\n      <td>43.852013</td>\n      <td>6.622085</td>\n      <td>0.544332</td>\n    </tr>\n    <tr>\n      <th>Ramicane</th>\n      <td>40.216745</td>\n      <td>40.673236</td>\n      <td>23.486704</td>\n      <td>4.846308</td>\n      <td>0.320955</td>\n    </tr>\n    <tr>\n      <th>Stelasyn</th>\n      <td>54.233149</td>\n      <td>52.431737</td>\n      <td>59.450562</td>\n      <td>7.710419</td>\n      <td>0.573111</td>\n    </tr>\n    <tr>\n      <th>Zoniferol</th>\n      <td>53.236507</td>\n      <td>51.818479</td>\n      <td>48.533355</td>\n      <td>6.966589</td>\n      <td>0.516398</td>\n    </tr>\n  </tbody>\n</table>\n</div>"
     },
     "execution_count": 23,
     "metadata": {},
     "output_type": "execute_result"
    }
   ],
   "source": [
    "# Get summary statistics\n",
    "drug_summary_df = study_data_df.groupby('Drug Regimen')['Tumor Volume (mm3)'].agg(\n",
    "    Mean_Tumor_Volume = np.mean,\n",
    "    Median_Tumor_Volume = np.median,\n",
    "    Variance_Tumor_Volume = np.var,\n",
    "    Stdev_Tumor_Volume = np.std,\n",
    "    SEM_Tumor_Voume = stat.sem\n",
    ")\n",
    "\n",
    "# Rename columns\n",
    "drug_summary_df.rename(columns={\n",
    "    'Mean_Tumor_Volume': 'Mean Tumor Volume',\n",
    "    'Median_Tumor_Volume': 'Median Tumor Volume',\n",
    "    'Variance_Tumor_Volume': 'Tumor Volume Variance',\n",
    "    'Stdev_Tumor_Volume': 'Tumor Volume Stdev',\n",
    "    'SEM_Tumor_Volume': 'Tumor Volume SEM'\n",
    "}, inplace = True)\n",
    "\n",
    "drug_summary_df"
   ],
   "metadata": {
    "collapsed": false,
    "pycharm": {
     "name": "#%%\n"
    }
   }
  }
 ],
 "metadata": {
  "kernelspec": {
   "display_name": "Python 3",
   "language": "python",
   "name": "python3"
  },
  "language_info": {
   "codemirror_mode": {
    "name": "ipython",
    "version": 2
   },
   "file_extension": ".py",
   "mimetype": "text/x-python",
   "name": "python",
   "nbconvert_exporter": "python",
   "pygments_lexer": "ipython2",
   "version": "2.7.6"
  }
 },
 "nbformat": 4,
 "nbformat_minor": 0
}