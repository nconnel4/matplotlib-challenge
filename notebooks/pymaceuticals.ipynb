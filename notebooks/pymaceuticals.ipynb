{
 "cells": [
  {
   "cell_type": "code",
   "execution_count": 1,
   "metadata": {
    "collapsed": true
   },
   "outputs": [
    {
     "data": {
      "text/plain": "  Mouse ID  Timepoint  Tumor Volume (mm3)  Metastatic Sites Drug Regimen  \\\n0     b128          0                45.0                 0    Capomulin   \n1     f932          0                45.0                 0     Ketapril   \n2     g107          0                45.0                 0     Ketapril   \n3     a457          0                45.0                 0     Ketapril   \n4     c819          0                45.0                 0     Ketapril   \n\n      Sex  Age_months  Weight (g)  \n0  Female           9          22  \n1    Male          15          29  \n2  Female           2          29  \n3  Female          11          30  \n4    Male          21          25  ",
      "text/html": "<div>\n<style scoped>\n    .dataframe tbody tr th:only-of-type {\n        vertical-align: middle;\n    }\n\n    .dataframe tbody tr th {\n        vertical-align: top;\n    }\n\n    .dataframe thead th {\n        text-align: right;\n    }\n</style>\n<table border=\"1\" class=\"dataframe\">\n  <thead>\n    <tr style=\"text-align: right;\">\n      <th></th>\n      <th>Mouse ID</th>\n      <th>Timepoint</th>\n      <th>Tumor Volume (mm3)</th>\n      <th>Metastatic Sites</th>\n      <th>Drug Regimen</th>\n      <th>Sex</th>\n      <th>Age_months</th>\n      <th>Weight (g)</th>\n    </tr>\n  </thead>\n  <tbody>\n    <tr>\n      <th>0</th>\n      <td>b128</td>\n      <td>0</td>\n      <td>45.0</td>\n      <td>0</td>\n      <td>Capomulin</td>\n      <td>Female</td>\n      <td>9</td>\n      <td>22</td>\n    </tr>\n    <tr>\n      <th>1</th>\n      <td>f932</td>\n      <td>0</td>\n      <td>45.0</td>\n      <td>0</td>\n      <td>Ketapril</td>\n      <td>Male</td>\n      <td>15</td>\n      <td>29</td>\n    </tr>\n    <tr>\n      <th>2</th>\n      <td>g107</td>\n      <td>0</td>\n      <td>45.0</td>\n      <td>0</td>\n      <td>Ketapril</td>\n      <td>Female</td>\n      <td>2</td>\n      <td>29</td>\n    </tr>\n    <tr>\n      <th>3</th>\n      <td>a457</td>\n      <td>0</td>\n      <td>45.0</td>\n      <td>0</td>\n      <td>Ketapril</td>\n      <td>Female</td>\n      <td>11</td>\n      <td>30</td>\n    </tr>\n    <tr>\n      <th>4</th>\n      <td>c819</td>\n      <td>0</td>\n      <td>45.0</td>\n      <td>0</td>\n      <td>Ketapril</td>\n      <td>Male</td>\n      <td>21</td>\n      <td>25</td>\n    </tr>\n  </tbody>\n</table>\n</div>"
     },
     "execution_count": 1,
     "metadata": {},
     "output_type": "execute_result"
    }
   ],
   "source": [
    "# Install Dependencies\n",
    "import pandas as pd\n",
    "import scipy.stats as stat\n",
    "import numpy as np\n",
    "import matplotlib.pyplot as plt\n",
    "from scipy.stats import linregress\n",
    "\n",
    "# Set Data Paths\n",
    "mouse_metadata_path = '../data/Mouse_metadata.csv'\n",
    "study_results_path = '../data/study_results.csv'\n",
    "\n",
    "# Load Data Into Pandas\n",
    "mouse_metadata_df = pd.read_csv(mouse_metadata_path)\n",
    "study_results_df = pd.read_csv(study_results_path)\n",
    "\n",
    "study_data_df = pd.merge(study_results_df, mouse_metadata_df, how='left', on='Mouse ID')\n",
    "\n",
    "study_data_df.head()"
   ]
  },
  {
   "cell_type": "code",
   "execution_count": 2,
   "outputs": [],
   "source": [
    "# Get duplicate values from study data\n",
    "duplicate_mouse_row = study_data_df.duplicated(subset=['Mouse ID', 'Timepoint'])\n",
    "duplicate_mouse_df = study_data_df[duplicate_mouse_row]\n",
    "duplicate_mouse_id_list = duplicate_mouse_df['Mouse ID'].unique()\n",
    "\n",
    "# Drop all mice that have duplicate study rows\n",
    "study_data_df = study_data_df[~study_data_df['Mouse ID'].isin(duplicate_mouse_id_list)]"
   ],
   "metadata": {
    "collapsed": false,
    "pycharm": {
     "name": "#%%\n"
    }
   }
  }
 ],
 "metadata": {
  "kernelspec": {
   "display_name": "Python 3",
   "language": "python",
   "name": "python3"
  },
  "language_info": {
   "codemirror_mode": {
    "name": "ipython",
    "version": 2
   },
   "file_extension": ".py",
   "mimetype": "text/x-python",
   "name": "python",
   "nbconvert_exporter": "python",
   "pygments_lexer": "ipython2",
   "version": "2.7.6"
  }
 },
 "nbformat": 4,
 "nbformat_minor": 0
}